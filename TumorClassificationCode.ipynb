{
  "nbformat": 4,
  "nbformat_minor": 0,
  "metadata": {
    "colab": {
      "name": "TumorClassification(New).ipynb",
      "provenance": [],
      "collapsed_sections": []
    },
    "kernelspec": {
      "name": "python3",
      "display_name": "Python 3"
    },
    "language_info": {
      "name": "python"
    },
    "accelerator": "GPU"
  },
  "cells": [
    {
      "cell_type": "code",
      "metadata": {
        "id": "_SuML3ex4LP3"
      },
      "source": [
        "%reload_ext autoreload\n",
        "%autoreload 2\n",
        "%matplotlib inline"
      ],
      "execution_count": 75,
      "outputs": []
    },
    {
      "cell_type": "code",
      "metadata": {
        "id": "1XuFtn804YRk"
      },
      "source": [
        "from fastai.vision import *\n",
        "from fastai import *\n",
        "import pandas as pd\n",
        "from pathlib import Path\n",
        "import numpy as np"
      ],
      "execution_count": 76,
      "outputs": []
    },
    {
      "cell_type": "code",
      "metadata": {
        "id": "ZgXv8ohN4ZUy",
        "colab": {
          "base_uri": "https://localhost:8080/"
        },
        "outputId": "1e3ee81e-8958-4f48-c745-8e8930e51131"
      },
      "source": [
        "from google.colab import drive                                    # I place the dataset to google drive and imported from there\n",
        "\n",
        "drive.mount(\"/content/drive\", force_remount=True)"
      ],
      "execution_count": 77,
      "outputs": [
        {
          "output_type": "stream",
          "name": "stdout",
          "text": [
            "Mounted at /content/drive\n"
          ]
        }
      ]
    },
    {
      "cell_type": "code",
      "metadata": {
        "id": "L_ND39xrcGKx"
      },
      "source": [
        "path = Path('/content/drive/MyDrive/MRI')"
      ],
      "execution_count": 78,
      "outputs": []
    },
    {
      "cell_type": "code",
      "metadata": {
        "id": "DViL769xcHfx",
        "colab": {
          "base_uri": "https://localhost:8080/"
        },
        "outputId": "864d63b1-75c1-4960-ab7d-b205bc56172e"
      },
      "source": [
        "np.random.seed(41)\n",
        "data = ImageDataBunch.from_folder(path, train=\"Train\", valid =\"Valid\",\n",
        "        ds_tfms=get_transforms(), size=(256,256), bs=16, num_workers=4).normalize()"
      ],
      "execution_count": 79,
      "outputs": [
        {
          "output_type": "stream",
          "name": "stderr",
          "text": [
            "/usr/local/lib/python3.7/dist-packages/torch/utils/data/dataloader.py:481: UserWarning: This DataLoader will create 4 worker processes in total. Our suggested max number of worker in current system is 2, which is smaller than what this DataLoader is going to create. Please be aware that excessive worker creation might get DataLoader running slow or even freeze, lower the worker number to avoid potential slowness/freeze if necessary.\n",
            "  cpuset_checked))\n"
          ]
        }
      ]
    },
    {
      "cell_type": "code",
      "metadata": {
        "id": "Gg35sjatcT36",
        "colab": {
          "base_uri": "https://localhost:8080/"
        },
        "outputId": "8bf0a282-83a5-4021-8723-408c2b393983"
      },
      "source": [
        "data.classes, data.c, len(data.train_ds), len(data.valid_ds)"
      ],
      "execution_count": 80,
      "outputs": [
        {
          "output_type": "execute_result",
          "data": {
            "text/plain": [
              "(['0', '1', '2'], 3, 2430, 642)"
            ]
          },
          "metadata": {},
          "execution_count": 80
        }
      ]
    },
    {
      "cell_type": "code",
      "metadata": {
        "id": "WLZsaJ8XcbNe",
        "colab": {
          "base_uri": "https://localhost:8080/"
        },
        "outputId": "8e95ca4e-b0ef-4215-a884-74c287782ee2"
      },
      "source": [
        "print(\"Number of examples in training:\", len(data.train_ds))\n",
        "print(\"Number of examples in validation:\", len(data.valid_ds))"
      ],
      "execution_count": 81,
      "outputs": [
        {
          "output_type": "stream",
          "name": "stdout",
          "text": [
            "Number of examples in training: 2430\n",
            "Number of examples in validation: 642\n"
          ]
        }
      ]
    },
    {
      "cell_type": "code",
      "metadata": {
        "id": "dlNUWfTicl28",
        "colab": {
          "base_uri": "https://localhost:8080/"
        },
        "outputId": "d929dd8e-c2b5-4de5-bcb7-ce45bbeed672"
      },
      "source": [
        "xb,yb = data.one_batch()\n",
        "xb.shape,yb.shape"
      ],
      "execution_count": 82,
      "outputs": [
        {
          "output_type": "execute_result",
          "data": {
            "text/plain": [
              "(torch.Size([16, 3, 256, 256]), torch.Size([16]))"
            ]
          },
          "metadata": {},
          "execution_count": 82
        }
      ]
    },
    {
      "cell_type": "code",
      "metadata": {
        "id": "SrWAq3hpgIzY"
      },
      "source": [
        "def conv_block(ni, nf, size=3, stride=1):\n",
        "    for_pad = lambda s: s if s > 2 else 3\n",
        "    return nn.Sequential(\n",
        "        nn.Conv2d(ni, nf, kernel_size=size, stride=stride,\n",
        "                  padding=(for_pad(size) - 1)//2, bias=False), \n",
        "        nn.BatchNorm2d(nf),\n",
        "        nn.LeakyReLU(negative_slope=0.1, inplace=True)  \n",
        "    )"
      ],
      "execution_count": 83,
      "outputs": []
    },
    {
      "cell_type": "code",
      "metadata": {
        "id": "1bcpzwjXgKQM"
      },
      "source": [
        "def double_conv(ni, nf):\n",
        "    return nn.Sequential(\n",
        "        conv_block(ni, nf),\n",
        "        conv_block(nf, ni, size=1),  \n",
        "    )\n",
        "\n"
      ],
      "execution_count": 84,
      "outputs": []
    },
    {
      "cell_type": "code",
      "metadata": {
        "id": "yHbupz0IgOAe"
      },
      "source": [
        "def maxpooling():\n",
        "    return nn.MaxPool2d(2, stride=2)"
      ],
      "execution_count": 85,
      "outputs": []
    },
    {
      "cell_type": "code",
      "metadata": {
        "id": "mDbgarsKgRBv"
      },
      "source": [
        "model = nn.Sequential(\n",
        "    conv_block(3, 8),\n",
        "    conv_block(8, 16),\n",
        "    maxpooling(),\n",
        "    double_conv(16, 32),\n",
        "    maxpooling(),\n",
        "    double_conv(16, 32),\n",
        "    conv_block(16, 32),\n",
        "    maxpooling(),\n",
        "    double_conv(32, 64),\n",
        "    conv_block(32, 64),\n",
        "    maxpooling(),\n",
        "    conv_block(64, 128),\n",
        "    conv_block(128, 256),\n",
        "    double_conv(256, 512),\n",
        "    maxpooling(),\n",
        "    conv_block(256, 3),\n",
        "    Flatten(),\n",
        "    nn.Linear(243, 3)\n",
        "\n",
        ")"
      ],
      "execution_count": 86,
      "outputs": []
    },
    {
      "cell_type": "code",
      "metadata": {
        "id": "F0S7sPQ_gU6N"
      },
      "source": [
        "learn = Learner(data, model, loss_func = nn.CrossEntropyLoss(), metrics=accuracy)"
      ],
      "execution_count": 87,
      "outputs": []
    },
    {
      "cell_type": "code",
      "metadata": {
        "id": "_DGCYtdjgauk",
        "colab": {
          "base_uri": "https://localhost:8080/"
        },
        "outputId": "9d827990-3067-40ae-96ea-33cc261115cc"
      },
      "source": [
        "print(learn.summary())"
      ],
      "execution_count": 88,
      "outputs": [
        {
          "output_type": "stream",
          "name": "stdout",
          "text": [
            "Sequential\n",
            "======================================================================\n",
            "Layer (type)         Output Shape         Param #    Trainable \n",
            "======================================================================\n",
            "Conv2d               [8, 256, 256]        216        True      \n",
            "______________________________________________________________________\n",
            "BatchNorm2d          [8, 256, 256]        16         True      \n",
            "______________________________________________________________________\n",
            "LeakyReLU            [8, 256, 256]        0          False     \n",
            "______________________________________________________________________\n",
            "Conv2d               [16, 256, 256]       1,152      True      \n",
            "______________________________________________________________________\n",
            "BatchNorm2d          [16, 256, 256]       32         True      \n",
            "______________________________________________________________________\n",
            "LeakyReLU            [16, 256, 256]       0          False     \n",
            "______________________________________________________________________\n",
            "MaxPool2d            [16, 128, 128]       0          False     \n",
            "______________________________________________________________________\n",
            "Conv2d               [32, 128, 128]       4,608      True      \n",
            "______________________________________________________________________\n",
            "BatchNorm2d          [32, 128, 128]       64         True      \n",
            "______________________________________________________________________\n",
            "LeakyReLU            [32, 128, 128]       0          False     \n",
            "______________________________________________________________________\n",
            "Conv2d               [16, 130, 130]       512        True      \n",
            "______________________________________________________________________\n",
            "BatchNorm2d          [16, 130, 130]       32         True      \n",
            "______________________________________________________________________\n",
            "LeakyReLU            [16, 130, 130]       0          False     \n",
            "______________________________________________________________________\n",
            "MaxPool2d            [16, 65, 65]         0          False     \n",
            "______________________________________________________________________\n",
            "Conv2d               [32, 65, 65]         4,608      True      \n",
            "______________________________________________________________________\n",
            "BatchNorm2d          [32, 65, 65]         64         True      \n",
            "______________________________________________________________________\n",
            "LeakyReLU            [32, 65, 65]         0          False     \n",
            "______________________________________________________________________\n",
            "Conv2d               [16, 67, 67]         512        True      \n",
            "______________________________________________________________________\n",
            "BatchNorm2d          [16, 67, 67]         32         True      \n",
            "______________________________________________________________________\n",
            "LeakyReLU            [16, 67, 67]         0          False     \n",
            "______________________________________________________________________\n",
            "Conv2d               [32, 67, 67]         4,608      True      \n",
            "______________________________________________________________________\n",
            "BatchNorm2d          [32, 67, 67]         64         True      \n",
            "______________________________________________________________________\n",
            "LeakyReLU            [32, 67, 67]         0          False     \n",
            "______________________________________________________________________\n",
            "MaxPool2d            [32, 33, 33]         0          False     \n",
            "______________________________________________________________________\n",
            "Conv2d               [64, 33, 33]         18,432     True      \n",
            "______________________________________________________________________\n",
            "BatchNorm2d          [64, 33, 33]         128        True      \n",
            "______________________________________________________________________\n",
            "LeakyReLU            [64, 33, 33]         0          False     \n",
            "______________________________________________________________________\n",
            "Conv2d               [32, 35, 35]         2,048      True      \n",
            "______________________________________________________________________\n",
            "BatchNorm2d          [32, 35, 35]         64         True      \n",
            "______________________________________________________________________\n",
            "LeakyReLU            [32, 35, 35]         0          False     \n",
            "______________________________________________________________________\n",
            "Conv2d               [64, 35, 35]         18,432     True      \n",
            "______________________________________________________________________\n",
            "BatchNorm2d          [64, 35, 35]         128        True      \n",
            "______________________________________________________________________\n",
            "LeakyReLU            [64, 35, 35]         0          False     \n",
            "______________________________________________________________________\n",
            "MaxPool2d            [64, 17, 17]         0          False     \n",
            "______________________________________________________________________\n",
            "Conv2d               [128, 17, 17]        73,728     True      \n",
            "______________________________________________________________________\n",
            "BatchNorm2d          [128, 17, 17]        256        True      \n",
            "______________________________________________________________________\n",
            "LeakyReLU            [128, 17, 17]        0          False     \n",
            "______________________________________________________________________\n",
            "Conv2d               [256, 17, 17]        294,912    True      \n",
            "______________________________________________________________________\n",
            "BatchNorm2d          [256, 17, 17]        512        True      \n",
            "______________________________________________________________________\n",
            "LeakyReLU            [256, 17, 17]        0          False     \n",
            "______________________________________________________________________\n",
            "Conv2d               [512, 17, 17]        1,179,648  True      \n",
            "______________________________________________________________________\n",
            "BatchNorm2d          [512, 17, 17]        1,024      True      \n",
            "______________________________________________________________________\n",
            "LeakyReLU            [512, 17, 17]        0          False     \n",
            "______________________________________________________________________\n",
            "Conv2d               [256, 19, 19]        131,072    True      \n",
            "______________________________________________________________________\n",
            "BatchNorm2d          [256, 19, 19]        512        True      \n",
            "______________________________________________________________________\n",
            "LeakyReLU            [256, 19, 19]        0          False     \n",
            "______________________________________________________________________\n",
            "MaxPool2d            [256, 9, 9]          0          False     \n",
            "______________________________________________________________________\n",
            "Conv2d               [3, 9, 9]            6,912      True      \n",
            "______________________________________________________________________\n",
            "BatchNorm2d          [3, 9, 9]            6          True      \n",
            "______________________________________________________________________\n",
            "LeakyReLU            [3, 9, 9]            0          False     \n",
            "______________________________________________________________________\n",
            "Flatten              [243]                0          False     \n",
            "______________________________________________________________________\n",
            "Linear               [3]                  732        True      \n",
            "______________________________________________________________________\n",
            "\n",
            "Total params: 1,745,066\n",
            "Total trainable params: 1,745,066\n",
            "Total non-trainable params: 0\n",
            "Optimized with 'torch.optim.adam.Adam', betas=(0.9, 0.99)\n",
            "Using true weight decay as discussed in https://www.fast.ai/2018/07/02/adam-weight-decay/ \n",
            "Loss function : CrossEntropyLoss\n",
            "======================================================================\n",
            "Callbacks functions applied \n",
            "\n"
          ]
        }
      ]
    },
    {
      "cell_type": "code",
      "metadata": {
        "id": "OCqn6bWo4s_N"
      },
      "source": [
        "CUDA_LAUNCH_BLOCKING=1"
      ],
      "execution_count": 89,
      "outputs": []
    },
    {
      "cell_type": "code",
      "metadata": {
        "id": "rKTIIaDzggj9",
        "colab": {
          "base_uri": "https://localhost:8080/",
          "height": 1000
        },
        "outputId": "23268904-74ee-4423-fce7-230a38e14ebb"
      },
      "source": [
        "learn.fit_one_cycle(100, max_lr=3e-3)"
      ],
      "execution_count": 90,
      "outputs": [
        {
          "output_type": "display_data",
          "data": {
            "text/html": [
              "\n",
              "<style>\n",
              "    /* Turns off some styling */\n",
              "    progress {\n",
              "        /* gets rid of default border in Firefox and Opera. */\n",
              "        border: none;\n",
              "        /* Needs to be in here for Safari polyfill so background images work as expected. */\n",
              "        background-size: auto;\n",
              "    }\n",
              "    .progress-bar-interrupted, .progress-bar-interrupted::-webkit-progress-bar {\n",
              "        background: #F44336;\n",
              "    }\n",
              "</style>\n"
            ],
            "text/plain": [
              "<IPython.core.display.HTML object>"
            ]
          },
          "metadata": {}
        },
        {
          "output_type": "display_data",
          "data": {
            "text/html": [
              "<table border=\"1\" class=\"dataframe\">\n",
              "  <thead>\n",
              "    <tr style=\"text-align: left;\">\n",
              "      <th>epoch</th>\n",
              "      <th>train_loss</th>\n",
              "      <th>valid_loss</th>\n",
              "      <th>accuracy</th>\n",
              "      <th>time</th>\n",
              "    </tr>\n",
              "  </thead>\n",
              "  <tbody>\n",
              "    <tr>\n",
              "      <td>0</td>\n",
              "      <td>0.704355</td>\n",
              "      <td>0.566796</td>\n",
              "      <td>0.803738</td>\n",
              "      <td>00:42</td>\n",
              "    </tr>\n",
              "    <tr>\n",
              "      <td>1</td>\n",
              "      <td>0.573834</td>\n",
              "      <td>0.564253</td>\n",
              "      <td>0.755452</td>\n",
              "      <td>00:42</td>\n",
              "    </tr>\n",
              "    <tr>\n",
              "      <td>2</td>\n",
              "      <td>0.457607</td>\n",
              "      <td>0.495806</td>\n",
              "      <td>0.766355</td>\n",
              "      <td>00:42</td>\n",
              "    </tr>\n",
              "    <tr>\n",
              "      <td>3</td>\n",
              "      <td>0.446001</td>\n",
              "      <td>0.341645</td>\n",
              "      <td>0.869159</td>\n",
              "      <td>00:42</td>\n",
              "    </tr>\n",
              "    <tr>\n",
              "      <td>4</td>\n",
              "      <td>0.435439</td>\n",
              "      <td>0.429562</td>\n",
              "      <td>0.803738</td>\n",
              "      <td>00:41</td>\n",
              "    </tr>\n",
              "    <tr>\n",
              "      <td>5</td>\n",
              "      <td>0.405713</td>\n",
              "      <td>0.286884</td>\n",
              "      <td>0.884735</td>\n",
              "      <td>00:42</td>\n",
              "    </tr>\n",
              "    <tr>\n",
              "      <td>6</td>\n",
              "      <td>0.398458</td>\n",
              "      <td>0.408289</td>\n",
              "      <td>0.831776</td>\n",
              "      <td>00:41</td>\n",
              "    </tr>\n",
              "    <tr>\n",
              "      <td>7</td>\n",
              "      <td>0.419072</td>\n",
              "      <td>0.543543</td>\n",
              "      <td>0.788162</td>\n",
              "      <td>00:41</td>\n",
              "    </tr>\n",
              "    <tr>\n",
              "      <td>8</td>\n",
              "      <td>0.397722</td>\n",
              "      <td>0.582198</td>\n",
              "      <td>0.733645</td>\n",
              "      <td>00:42</td>\n",
              "    </tr>\n",
              "    <tr>\n",
              "      <td>9</td>\n",
              "      <td>0.384041</td>\n",
              "      <td>0.437101</td>\n",
              "      <td>0.811526</td>\n",
              "      <td>00:41</td>\n",
              "    </tr>\n",
              "    <tr>\n",
              "      <td>10</td>\n",
              "      <td>0.364309</td>\n",
              "      <td>0.336059</td>\n",
              "      <td>0.861371</td>\n",
              "      <td>00:41</td>\n",
              "    </tr>\n",
              "    <tr>\n",
              "      <td>11</td>\n",
              "      <td>0.346111</td>\n",
              "      <td>0.343587</td>\n",
              "      <td>0.853583</td>\n",
              "      <td>00:42</td>\n",
              "    </tr>\n",
              "    <tr>\n",
              "      <td>12</td>\n",
              "      <td>0.343222</td>\n",
              "      <td>0.579647</td>\n",
              "      <td>0.785047</td>\n",
              "      <td>00:41</td>\n",
              "    </tr>\n",
              "    <tr>\n",
              "      <td>13</td>\n",
              "      <td>0.344071</td>\n",
              "      <td>0.497209</td>\n",
              "      <td>0.822430</td>\n",
              "      <td>00:42</td>\n",
              "    </tr>\n",
              "    <tr>\n",
              "      <td>14</td>\n",
              "      <td>0.303342</td>\n",
              "      <td>0.381130</td>\n",
              "      <td>0.834891</td>\n",
              "      <td>00:42</td>\n",
              "    </tr>\n",
              "    <tr>\n",
              "      <td>15</td>\n",
              "      <td>0.298296</td>\n",
              "      <td>0.218862</td>\n",
              "      <td>0.903427</td>\n",
              "      <td>00:42</td>\n",
              "    </tr>\n",
              "    <tr>\n",
              "      <td>16</td>\n",
              "      <td>0.290186</td>\n",
              "      <td>0.325737</td>\n",
              "      <td>0.878505</td>\n",
              "      <td>00:42</td>\n",
              "    </tr>\n",
              "    <tr>\n",
              "      <td>17</td>\n",
              "      <td>0.252486</td>\n",
              "      <td>0.340193</td>\n",
              "      <td>0.876947</td>\n",
              "      <td>00:41</td>\n",
              "    </tr>\n",
              "    <tr>\n",
              "      <td>18</td>\n",
              "      <td>0.262943</td>\n",
              "      <td>0.229500</td>\n",
              "      <td>0.908100</td>\n",
              "      <td>00:41</td>\n",
              "    </tr>\n",
              "    <tr>\n",
              "      <td>19</td>\n",
              "      <td>0.248879</td>\n",
              "      <td>0.256282</td>\n",
              "      <td>0.906542</td>\n",
              "      <td>00:41</td>\n",
              "    </tr>\n",
              "    <tr>\n",
              "      <td>20</td>\n",
              "      <td>0.254348</td>\n",
              "      <td>6.065529</td>\n",
              "      <td>0.367601</td>\n",
              "      <td>00:41</td>\n",
              "    </tr>\n",
              "    <tr>\n",
              "      <td>21</td>\n",
              "      <td>0.266128</td>\n",
              "      <td>0.791986</td>\n",
              "      <td>0.736760</td>\n",
              "      <td>00:41</td>\n",
              "    </tr>\n",
              "    <tr>\n",
              "      <td>22</td>\n",
              "      <td>0.225259</td>\n",
              "      <td>0.326292</td>\n",
              "      <td>0.878505</td>\n",
              "      <td>00:42</td>\n",
              "    </tr>\n",
              "    <tr>\n",
              "      <td>23</td>\n",
              "      <td>0.195860</td>\n",
              "      <td>0.616027</td>\n",
              "      <td>0.771028</td>\n",
              "      <td>00:41</td>\n",
              "    </tr>\n",
              "    <tr>\n",
              "      <td>24</td>\n",
              "      <td>0.208171</td>\n",
              "      <td>0.830599</td>\n",
              "      <td>0.791277</td>\n",
              "      <td>00:41</td>\n",
              "    </tr>\n",
              "    <tr>\n",
              "      <td>25</td>\n",
              "      <td>0.198570</td>\n",
              "      <td>0.447410</td>\n",
              "      <td>0.828660</td>\n",
              "      <td>00:41</td>\n",
              "    </tr>\n",
              "    <tr>\n",
              "      <td>26</td>\n",
              "      <td>0.226980</td>\n",
              "      <td>0.206568</td>\n",
              "      <td>0.919003</td>\n",
              "      <td>00:42</td>\n",
              "    </tr>\n",
              "    <tr>\n",
              "      <td>27</td>\n",
              "      <td>0.215371</td>\n",
              "      <td>0.182427</td>\n",
              "      <td>0.929907</td>\n",
              "      <td>00:41</td>\n",
              "    </tr>\n",
              "    <tr>\n",
              "      <td>28</td>\n",
              "      <td>0.194151</td>\n",
              "      <td>0.210454</td>\n",
              "      <td>0.929907</td>\n",
              "      <td>00:42</td>\n",
              "    </tr>\n",
              "    <tr>\n",
              "      <td>29</td>\n",
              "      <td>0.198705</td>\n",
              "      <td>0.216720</td>\n",
              "      <td>0.906542</td>\n",
              "      <td>00:42</td>\n",
              "    </tr>\n",
              "    <tr>\n",
              "      <td>30</td>\n",
              "      <td>0.171892</td>\n",
              "      <td>0.225032</td>\n",
              "      <td>0.920561</td>\n",
              "      <td>00:41</td>\n",
              "    </tr>\n",
              "    <tr>\n",
              "      <td>31</td>\n",
              "      <td>0.169425</td>\n",
              "      <td>0.193781</td>\n",
              "      <td>0.925234</td>\n",
              "      <td>00:41</td>\n",
              "    </tr>\n",
              "    <tr>\n",
              "      <td>32</td>\n",
              "      <td>0.155746</td>\n",
              "      <td>0.132483</td>\n",
              "      <td>0.947040</td>\n",
              "      <td>00:41</td>\n",
              "    </tr>\n",
              "    <tr>\n",
              "      <td>33</td>\n",
              "      <td>0.155519</td>\n",
              "      <td>0.243558</td>\n",
              "      <td>0.901869</td>\n",
              "      <td>00:41</td>\n",
              "    </tr>\n",
              "    <tr>\n",
              "      <td>34</td>\n",
              "      <td>0.163444</td>\n",
              "      <td>0.166763</td>\n",
              "      <td>0.933022</td>\n",
              "      <td>00:41</td>\n",
              "    </tr>\n",
              "    <tr>\n",
              "      <td>35</td>\n",
              "      <td>0.156577</td>\n",
              "      <td>0.261307</td>\n",
              "      <td>0.914330</td>\n",
              "      <td>00:42</td>\n",
              "    </tr>\n",
              "    <tr>\n",
              "      <td>36</td>\n",
              "      <td>0.150575</td>\n",
              "      <td>0.239118</td>\n",
              "      <td>0.904984</td>\n",
              "      <td>00:42</td>\n",
              "    </tr>\n",
              "    <tr>\n",
              "      <td>37</td>\n",
              "      <td>0.131962</td>\n",
              "      <td>0.160964</td>\n",
              "      <td>0.940810</td>\n",
              "      <td>00:42</td>\n",
              "    </tr>\n",
              "    <tr>\n",
              "      <td>38</td>\n",
              "      <td>0.138331</td>\n",
              "      <td>0.152168</td>\n",
              "      <td>0.940810</td>\n",
              "      <td>00:43</td>\n",
              "    </tr>\n",
              "    <tr>\n",
              "      <td>39</td>\n",
              "      <td>0.122130</td>\n",
              "      <td>0.170910</td>\n",
              "      <td>0.947040</td>\n",
              "      <td>00:42</td>\n",
              "    </tr>\n",
              "    <tr>\n",
              "      <td>40</td>\n",
              "      <td>0.130828</td>\n",
              "      <td>0.097395</td>\n",
              "      <td>0.959502</td>\n",
              "      <td>00:43</td>\n",
              "    </tr>\n",
              "    <tr>\n",
              "      <td>41</td>\n",
              "      <td>0.119754</td>\n",
              "      <td>0.128973</td>\n",
              "      <td>0.950156</td>\n",
              "      <td>00:43</td>\n",
              "    </tr>\n",
              "    <tr>\n",
              "      <td>42</td>\n",
              "      <td>0.116742</td>\n",
              "      <td>0.104977</td>\n",
              "      <td>0.959502</td>\n",
              "      <td>00:44</td>\n",
              "    </tr>\n",
              "    <tr>\n",
              "      <td>43</td>\n",
              "      <td>0.101795</td>\n",
              "      <td>0.151985</td>\n",
              "      <td>0.948598</td>\n",
              "      <td>00:42</td>\n",
              "    </tr>\n",
              "    <tr>\n",
              "      <td>44</td>\n",
              "      <td>0.109601</td>\n",
              "      <td>0.123871</td>\n",
              "      <td>0.947040</td>\n",
              "      <td>00:43</td>\n",
              "    </tr>\n",
              "    <tr>\n",
              "      <td>45</td>\n",
              "      <td>0.090714</td>\n",
              "      <td>0.312235</td>\n",
              "      <td>0.900312</td>\n",
              "      <td>00:42</td>\n",
              "    </tr>\n",
              "    <tr>\n",
              "      <td>46</td>\n",
              "      <td>0.106066</td>\n",
              "      <td>0.203444</td>\n",
              "      <td>0.934579</td>\n",
              "      <td>00:41</td>\n",
              "    </tr>\n",
              "    <tr>\n",
              "      <td>47</td>\n",
              "      <td>0.096118</td>\n",
              "      <td>0.414783</td>\n",
              "      <td>0.889408</td>\n",
              "      <td>00:41</td>\n",
              "    </tr>\n",
              "    <tr>\n",
              "      <td>48</td>\n",
              "      <td>0.103076</td>\n",
              "      <td>0.109880</td>\n",
              "      <td>0.953271</td>\n",
              "      <td>00:42</td>\n",
              "    </tr>\n",
              "    <tr>\n",
              "      <td>49</td>\n",
              "      <td>0.085767</td>\n",
              "      <td>0.098729</td>\n",
              "      <td>0.968847</td>\n",
              "      <td>00:41</td>\n",
              "    </tr>\n",
              "    <tr>\n",
              "      <td>50</td>\n",
              "      <td>0.085309</td>\n",
              "      <td>0.191657</td>\n",
              "      <td>0.925234</td>\n",
              "      <td>00:41</td>\n",
              "    </tr>\n",
              "    <tr>\n",
              "      <td>51</td>\n",
              "      <td>0.086845</td>\n",
              "      <td>0.127538</td>\n",
              "      <td>0.954829</td>\n",
              "      <td>00:42</td>\n",
              "    </tr>\n",
              "    <tr>\n",
              "      <td>52</td>\n",
              "      <td>0.086662</td>\n",
              "      <td>0.095480</td>\n",
              "      <td>0.959502</td>\n",
              "      <td>00:41</td>\n",
              "    </tr>\n",
              "    <tr>\n",
              "      <td>53</td>\n",
              "      <td>0.078944</td>\n",
              "      <td>0.112109</td>\n",
              "      <td>0.956386</td>\n",
              "      <td>00:42</td>\n",
              "    </tr>\n",
              "    <tr>\n",
              "      <td>54</td>\n",
              "      <td>0.078010</td>\n",
              "      <td>0.352796</td>\n",
              "      <td>0.911215</td>\n",
              "      <td>00:42</td>\n",
              "    </tr>\n",
              "    <tr>\n",
              "      <td>55</td>\n",
              "      <td>0.068849</td>\n",
              "      <td>0.173378</td>\n",
              "      <td>0.940810</td>\n",
              "      <td>00:43</td>\n",
              "    </tr>\n",
              "    <tr>\n",
              "      <td>56</td>\n",
              "      <td>0.062038</td>\n",
              "      <td>0.348838</td>\n",
              "      <td>0.894081</td>\n",
              "      <td>00:42</td>\n",
              "    </tr>\n",
              "    <tr>\n",
              "      <td>57</td>\n",
              "      <td>0.057300</td>\n",
              "      <td>0.125718</td>\n",
              "      <td>0.957944</td>\n",
              "      <td>00:42</td>\n",
              "    </tr>\n",
              "    <tr>\n",
              "      <td>58</td>\n",
              "      <td>0.089340</td>\n",
              "      <td>0.151138</td>\n",
              "      <td>0.940810</td>\n",
              "      <td>00:41</td>\n",
              "    </tr>\n",
              "    <tr>\n",
              "      <td>59</td>\n",
              "      <td>0.059757</td>\n",
              "      <td>0.122366</td>\n",
              "      <td>0.951713</td>\n",
              "      <td>00:41</td>\n",
              "    </tr>\n",
              "    <tr>\n",
              "      <td>60</td>\n",
              "      <td>0.052386</td>\n",
              "      <td>0.103534</td>\n",
              "      <td>0.957944</td>\n",
              "      <td>00:41</td>\n",
              "    </tr>\n",
              "    <tr>\n",
              "      <td>61</td>\n",
              "      <td>0.052899</td>\n",
              "      <td>0.137018</td>\n",
              "      <td>0.948598</td>\n",
              "      <td>00:42</td>\n",
              "    </tr>\n",
              "    <tr>\n",
              "      <td>62</td>\n",
              "      <td>0.033739</td>\n",
              "      <td>0.136175</td>\n",
              "      <td>0.956386</td>\n",
              "      <td>00:42</td>\n",
              "    </tr>\n",
              "    <tr>\n",
              "      <td>63</td>\n",
              "      <td>0.052722</td>\n",
              "      <td>0.125063</td>\n",
              "      <td>0.945483</td>\n",
              "      <td>00:42</td>\n",
              "    </tr>\n",
              "    <tr>\n",
              "      <td>64</td>\n",
              "      <td>0.040879</td>\n",
              "      <td>0.079297</td>\n",
              "      <td>0.973520</td>\n",
              "      <td>00:42</td>\n",
              "    </tr>\n",
              "    <tr>\n",
              "      <td>65</td>\n",
              "      <td>0.063129</td>\n",
              "      <td>0.093862</td>\n",
              "      <td>0.964174</td>\n",
              "      <td>00:42</td>\n",
              "    </tr>\n",
              "    <tr>\n",
              "      <td>66</td>\n",
              "      <td>0.030368</td>\n",
              "      <td>0.104873</td>\n",
              "      <td>0.965732</td>\n",
              "      <td>00:42</td>\n",
              "    </tr>\n",
              "    <tr>\n",
              "      <td>67</td>\n",
              "      <td>0.038572</td>\n",
              "      <td>0.093300</td>\n",
              "      <td>0.956386</td>\n",
              "      <td>00:42</td>\n",
              "    </tr>\n",
              "    <tr>\n",
              "      <td>68</td>\n",
              "      <td>0.030088</td>\n",
              "      <td>0.065953</td>\n",
              "      <td>0.968847</td>\n",
              "      <td>00:41</td>\n",
              "    </tr>\n",
              "    <tr>\n",
              "      <td>69</td>\n",
              "      <td>0.030946</td>\n",
              "      <td>0.083447</td>\n",
              "      <td>0.968847</td>\n",
              "      <td>00:41</td>\n",
              "    </tr>\n",
              "    <tr>\n",
              "      <td>70</td>\n",
              "      <td>0.035327</td>\n",
              "      <td>0.067789</td>\n",
              "      <td>0.976636</td>\n",
              "      <td>00:41</td>\n",
              "    </tr>\n",
              "    <tr>\n",
              "      <td>71</td>\n",
              "      <td>0.024630</td>\n",
              "      <td>0.073214</td>\n",
              "      <td>0.968847</td>\n",
              "      <td>00:41</td>\n",
              "    </tr>\n",
              "    <tr>\n",
              "      <td>72</td>\n",
              "      <td>0.027639</td>\n",
              "      <td>0.097293</td>\n",
              "      <td>0.967290</td>\n",
              "      <td>00:41</td>\n",
              "    </tr>\n",
              "    <tr>\n",
              "      <td>73</td>\n",
              "      <td>0.022772</td>\n",
              "      <td>0.094275</td>\n",
              "      <td>0.956386</td>\n",
              "      <td>00:42</td>\n",
              "    </tr>\n",
              "    <tr>\n",
              "      <td>74</td>\n",
              "      <td>0.013958</td>\n",
              "      <td>0.078444</td>\n",
              "      <td>0.970405</td>\n",
              "      <td>00:43</td>\n",
              "    </tr>\n",
              "    <tr>\n",
              "      <td>75</td>\n",
              "      <td>0.032227</td>\n",
              "      <td>0.079084</td>\n",
              "      <td>0.970405</td>\n",
              "      <td>00:42</td>\n",
              "    </tr>\n",
              "    <tr>\n",
              "      <td>76</td>\n",
              "      <td>0.022548</td>\n",
              "      <td>0.074687</td>\n",
              "      <td>0.971963</td>\n",
              "      <td>00:42</td>\n",
              "    </tr>\n",
              "    <tr>\n",
              "      <td>77</td>\n",
              "      <td>0.010494</td>\n",
              "      <td>0.094800</td>\n",
              "      <td>0.968847</td>\n",
              "      <td>00:42</td>\n",
              "    </tr>\n",
              "    <tr>\n",
              "      <td>78</td>\n",
              "      <td>0.018982</td>\n",
              "      <td>0.083081</td>\n",
              "      <td>0.970405</td>\n",
              "      <td>00:41</td>\n",
              "    </tr>\n",
              "    <tr>\n",
              "      <td>79</td>\n",
              "      <td>0.017761</td>\n",
              "      <td>0.069618</td>\n",
              "      <td>0.973520</td>\n",
              "      <td>00:43</td>\n",
              "    </tr>\n",
              "    <tr>\n",
              "      <td>80</td>\n",
              "      <td>0.013559</td>\n",
              "      <td>0.063147</td>\n",
              "      <td>0.976636</td>\n",
              "      <td>00:42</td>\n",
              "    </tr>\n",
              "    <tr>\n",
              "      <td>81</td>\n",
              "      <td>0.015643</td>\n",
              "      <td>0.073498</td>\n",
              "      <td>0.973520</td>\n",
              "      <td>00:41</td>\n",
              "    </tr>\n",
              "    <tr>\n",
              "      <td>82</td>\n",
              "      <td>0.008075</td>\n",
              "      <td>0.072459</td>\n",
              "      <td>0.978193</td>\n",
              "      <td>00:42</td>\n",
              "    </tr>\n",
              "    <tr>\n",
              "      <td>83</td>\n",
              "      <td>0.017440</td>\n",
              "      <td>0.082917</td>\n",
              "      <td>0.970405</td>\n",
              "      <td>00:43</td>\n",
              "    </tr>\n",
              "    <tr>\n",
              "      <td>84</td>\n",
              "      <td>0.012000</td>\n",
              "      <td>0.075139</td>\n",
              "      <td>0.971963</td>\n",
              "      <td>00:42</td>\n",
              "    </tr>\n",
              "    <tr>\n",
              "      <td>85</td>\n",
              "      <td>0.015189</td>\n",
              "      <td>0.062197</td>\n",
              "      <td>0.975078</td>\n",
              "      <td>00:42</td>\n",
              "    </tr>\n",
              "    <tr>\n",
              "      <td>86</td>\n",
              "      <td>0.008185</td>\n",
              "      <td>0.057458</td>\n",
              "      <td>0.978193</td>\n",
              "      <td>00:42</td>\n",
              "    </tr>\n",
              "    <tr>\n",
              "      <td>87</td>\n",
              "      <td>0.006541</td>\n",
              "      <td>0.067449</td>\n",
              "      <td>0.976636</td>\n",
              "      <td>00:42</td>\n",
              "    </tr>\n",
              "    <tr>\n",
              "      <td>88</td>\n",
              "      <td>0.010007</td>\n",
              "      <td>0.069869</td>\n",
              "      <td>0.981308</td>\n",
              "      <td>00:42</td>\n",
              "    </tr>\n",
              "    <tr>\n",
              "      <td>89</td>\n",
              "      <td>0.004617</td>\n",
              "      <td>0.068512</td>\n",
              "      <td>0.981308</td>\n",
              "      <td>00:42</td>\n",
              "    </tr>\n",
              "    <tr>\n",
              "      <td>90</td>\n",
              "      <td>0.009997</td>\n",
              "      <td>0.058261</td>\n",
              "      <td>0.981308</td>\n",
              "      <td>00:42</td>\n",
              "    </tr>\n",
              "    <tr>\n",
              "      <td>91</td>\n",
              "      <td>0.008163</td>\n",
              "      <td>0.066931</td>\n",
              "      <td>0.982866</td>\n",
              "      <td>00:42</td>\n",
              "    </tr>\n",
              "    <tr>\n",
              "      <td>92</td>\n",
              "      <td>0.006157</td>\n",
              "      <td>0.070329</td>\n",
              "      <td>0.984424</td>\n",
              "      <td>00:43</td>\n",
              "    </tr>\n",
              "    <tr>\n",
              "      <td>93</td>\n",
              "      <td>0.005789</td>\n",
              "      <td>0.068415</td>\n",
              "      <td>0.984424</td>\n",
              "      <td>00:43</td>\n",
              "    </tr>\n",
              "    <tr>\n",
              "      <td>94</td>\n",
              "      <td>0.009216</td>\n",
              "      <td>0.061689</td>\n",
              "      <td>0.984424</td>\n",
              "      <td>00:42</td>\n",
              "    </tr>\n",
              "    <tr>\n",
              "      <td>95</td>\n",
              "      <td>0.006896</td>\n",
              "      <td>0.062517</td>\n",
              "      <td>0.984424</td>\n",
              "      <td>00:42</td>\n",
              "    </tr>\n",
              "    <tr>\n",
              "      <td>96</td>\n",
              "      <td>0.011466</td>\n",
              "      <td>0.063145</td>\n",
              "      <td>0.984424</td>\n",
              "      <td>00:42</td>\n",
              "    </tr>\n",
              "    <tr>\n",
              "      <td>97</td>\n",
              "      <td>0.007018</td>\n",
              "      <td>0.062643</td>\n",
              "      <td>0.985981</td>\n",
              "      <td>00:43</td>\n",
              "    </tr>\n",
              "    <tr>\n",
              "      <td>98</td>\n",
              "      <td>0.007327</td>\n",
              "      <td>0.059138</td>\n",
              "      <td>0.985981</td>\n",
              "      <td>00:42</td>\n",
              "    </tr>\n",
              "    <tr>\n",
              "      <td>99</td>\n",
              "      <td>0.005247</td>\n",
              "      <td>0.059167</td>\n",
              "      <td>0.985981</td>\n",
              "      <td>00:43</td>\n",
              "    </tr>\n",
              "  </tbody>\n",
              "</table>"
            ],
            "text/plain": [
              "<IPython.core.display.HTML object>"
            ]
          },
          "metadata": {}
        },
        {
          "output_type": "stream",
          "name": "stderr",
          "text": [
            "/usr/local/lib/python3.7/dist-packages/torch/utils/data/dataloader.py:481: UserWarning: This DataLoader will create 4 worker processes in total. Our suggested max number of worker in current system is 2, which is smaller than what this DataLoader is going to create. Please be aware that excessive worker creation might get DataLoader running slow or even freeze, lower the worker number to avoid potential slowness/freeze if necessary.\n",
            "  cpuset_checked))\n"
          ]
        }
      ]
    },
    {
      "cell_type": "code",
      "source": [
        "learn.recorder.plot_losses()"
      ],
      "metadata": {
        "colab": {
          "base_uri": "https://localhost:8080/",
          "height": 279
        },
        "id": "AnOdW0rdFo3e",
        "outputId": "d6cbcc89-f614-4bd4-d874-ff941db287a4"
      },
      "execution_count": 91,
      "outputs": [
        {
          "output_type": "display_data",
          "data": {
            "image/png": "[encoded data removed]",
            "text/plain": [
              "<Figure size 432x288 with 1 Axes>"
            ]
          },
          "metadata": {
            "needs_background": "light"
          }
        }
      ]
    },
    {
      "cell_type": "code",
      "metadata": {
        "id": "t5Wm2rlKgj5M",
        "colab": {
          "base_uri": "https://localhost:8080/",
          "height": 74
        },
        "outputId": "096b956f-e690-4d3b-afe4-758dcaa01c1a"
      },
      "source": [
        "probs,targets = learn.get_preds(ds_type=DatasetType.Valid)"
      ],
      "execution_count": 92,
      "outputs": [
        {
          "output_type": "display_data",
          "data": {
            "text/html": [
              "\n",
              "<style>\n",
              "    /* Turns off some styling */\n",
              "    progress {\n",
              "        /* gets rid of default border in Firefox and Opera. */\n",
              "        border: none;\n",
              "        /* Needs to be in here for Safari polyfill so background images work as expected. */\n",
              "        background-size: auto;\n",
              "    }\n",
              "    .progress-bar-interrupted, .progress-bar-interrupted::-webkit-progress-bar {\n",
              "        background: #F44336;\n",
              "    }\n",
              "</style>\n"
            ],
            "text/plain": [
              "<IPython.core.display.HTML object>"
            ]
          },
          "metadata": {}
        },
        {
          "output_type": "display_data",
          "data": {
            "text/html": [
              ""
            ],
            "text/plain": [
              "<IPython.core.display.HTML object>"
            ]
          },
          "metadata": {}
        },
        {
          "output_type": "stream",
          "name": "stderr",
          "text": [
            "/usr/local/lib/python3.7/dist-packages/torch/utils/data/dataloader.py:481: UserWarning: This DataLoader will create 4 worker processes in total. Our suggested max number of worker in current system is 2, which is smaller than what this DataLoader is going to create. Please be aware that excessive worker creation might get DataLoader running slow or even freeze, lower the worker number to avoid potential slowness/freeze if necessary.\n",
            "  cpuset_checked))\n"
          ]
        }
      ]
    },
    {
      "cell_type": "code",
      "metadata": {
        "id": "RiNBUgjNgktC",
        "colab": {
          "base_uri": "https://localhost:8080/"
        },
        "outputId": "fb5f7c75-23e5-4d8e-980a-2e573f9ec272"
      },
      "source": [
        "accuracy(probs,targets)"
      ],
      "execution_count": 93,
      "outputs": [
        {
          "output_type": "execute_result",
          "data": {
            "text/plain": [
              "tensor(0.9860)"
            ]
          },
          "metadata": {},
          "execution_count": 93
        }
      ]
    },
    {
      "cell_type": "code",
      "metadata": {
        "id": "JvxRHTQcgn1X",
        "colab": {
          "base_uri": "https://localhost:8080/",
          "height": 74
        },
        "outputId": "0009fc47-7341-480a-8ca4-e9b8d88f78ea"
      },
      "source": [
        "interp = ClassificationInterpretation.from_learner(learn)"
      ],
      "execution_count": 94,
      "outputs": [
        {
          "output_type": "display_data",
          "data": {
            "text/html": [
              "\n",
              "<style>\n",
              "    /* Turns off some styling */\n",
              "    progress {\n",
              "        /* gets rid of default border in Firefox and Opera. */\n",
              "        border: none;\n",
              "        /* Needs to be in here for Safari polyfill so background images work as expected. */\n",
              "        background-size: auto;\n",
              "    }\n",
              "    .progress-bar-interrupted, .progress-bar-interrupted::-webkit-progress-bar {\n",
              "        background: #F44336;\n",
              "    }\n",
              "</style>\n"
            ],
            "text/plain": [
              "<IPython.core.display.HTML object>"
            ]
          },
          "metadata": {}
        },
        {
          "output_type": "display_data",
          "data": {
            "text/html": [
              ""
            ],
            "text/plain": [
              "<IPython.core.display.HTML object>"
            ]
          },
          "metadata": {}
        },
        {
          "output_type": "stream",
          "name": "stderr",
          "text": [
            "/usr/local/lib/python3.7/dist-packages/torch/utils/data/dataloader.py:481: UserWarning: This DataLoader will create 4 worker processes in total. Our suggested max number of worker in current system is 2, which is smaller than what this DataLoader is going to create. Please be aware that excessive worker creation might get DataLoader running slow or even freeze, lower the worker number to avoid potential slowness/freeze if necessary.\n",
            "  cpuset_checked))\n"
          ]
        }
      ]
    },
    {
      "cell_type": "code",
      "metadata": {
        "id": "4VcbDHbogr4A",
        "colab": {
          "base_uri": "https://localhost:8080/",
          "height": 311
        },
        "outputId": "33edfc71-cd0e-4e78-f741-6ef1735122db"
      },
      "source": [
        "cm_fig = interp.plot_confusion_matrix(return_fig=True)\n",
        "ax = cm_fig.gca()\n",
        "ax.set_ylim(interp.data.c - .5, - .5);"
      ],
      "execution_count": 95,
      "outputs": [
        {
          "output_type": "display_data",
          "data": {
            "image/png": "[encoded data removed]",
            "text/plain": [
              "<Figure size 432x288 with 1 Axes>"
            ]
          },
          "metadata": {
            "needs_background": "light"
          }
        }
      ]
    },
    {
      "cell_type": "code",
      "source": [
        "data.classes, data.c, len(data.train_ds), len(data.valid_ds)"
      ],
      "metadata": {
        "colab": {
          "base_uri": "https://localhost:8080/"
        },
        "id": "56WUOuXaC51Q",
        "outputId": "399438bf-af1d-4bbf-b62a-9748edc4ec35"
      },
      "execution_count": 96,
      "outputs": [
        {
          "output_type": "execute_result",
          "data": {
            "text/plain": [
              "(['0', '1', '2'], 3, 2430, 642)"
            ]
          },
          "metadata": {},
          "execution_count": 96
        }
      ]
    },
    {
      "cell_type": "code",
      "source": [
        "probs = np.argmax(probs, axis=1)\n",
        "correct = 0\n",
        "for idx, pred in enumerate(probs):\n",
        "    if pred == targets[idx]:\n",
        "        correct += 1\n",
        "accuracy = correct / len(probs)\n",
        "print(len(probs), correct, accuracy)\n",
        "\n",
        "from sklearn.metrics import confusion_matrix\n",
        "np.set_printoptions(threshold=np.inf) # shows whole confusion matrix\n",
        "cm1 = confusion_matrix(targets, probs)\n",
        "print(cm1)\n",
        "\n",
        "from sklearn.metrics import classification_report\n",
        "y_true1 = targets\n",
        "y_pred1 = probs\n",
        "target_names = ['Meningiomas', 'Gliomas', 'Pituitary tumors']\n",
        "print(classification_report(y_true1, y_pred1, target_names=target_names))"
      ],
      "metadata": {
        "colab": {
          "base_uri": "https://localhost:8080/"
        },
        "id": "SS5Hl78TD4sh",
        "outputId": "b797f466-04f0-4d65-9428-b059d986f248"
      },
      "execution_count": 97,
      "outputs": [
        {
          "output_type": "stream",
          "name": "stdout",
          "text": [
            "642 633 0.985981308411215\n",
            "[[145   7   1]\n",
            " [  1 293   0]\n",
            " [  0   0 195]]\n",
            "                  precision    recall  f1-score   support\n",
            "\n",
            "     Meningiomas       0.99      0.95      0.97       153\n",
            "         Gliomas       0.98      1.00      0.99       294\n",
            "Pituitary tumors       0.99      1.00      1.00       195\n",
            "\n",
            "        accuracy                           0.99       642\n",
            "       macro avg       0.99      0.98      0.98       642\n",
            "    weighted avg       0.99      0.99      0.99       642\n",
            "\n"
          ]
        }
      ]
    }
  ]
}